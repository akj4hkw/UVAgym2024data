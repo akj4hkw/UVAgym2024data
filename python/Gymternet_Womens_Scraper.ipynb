{
 "cells": [
  {
   "cell_type": "code",
   "execution_count": 19,
   "id": "08167558",
   "metadata": {},
   "outputs": [],
   "source": [
    "import pandas as pd\n",
    "import numpy as np\n",
    "import requests\n",
    "from bs4 import BeautifulSoup as bs"
   ]
  },
  {
   "cell_type": "markdown",
   "id": "717bb9dd",
   "metadata": {},
   "source": [
    "#### Link for the database -> https://thegymter.net/gymnast-database/\n",
    "#### Link for individual athletes is https://thegymter.net/ {firs name}-{last name}/  \n",
    "\n",
    "#### Example for Simone Biles: https://thegymter.net/simone-biles/"
   ]
  },
  {
   "cell_type": "code",
   "execution_count": 20,
   "id": "fd22e7fd",
   "metadata": {},
   "outputs": [],
   "source": [
    "#URL = \"https://thegymter.net/simone-biles/\"  \n",
    "#r = requests.get(URL)\n",
    "#html_content = r.content\n",
    "\n",
    "#soup = bs(html_content, 'html.parser')\n",
    "\n",
    "# Showing sample HTTP request for Simone Biles\n",
    "#print(soup.prettify())"
   ]
  },
  {
   "cell_type": "code",
   "execution_count": 21,
   "id": "d2740cb8",
   "metadata": {
    "scrolled": true
   },
   "outputs": [],
   "source": [
    "#soup = bs(html_content, 'html.parser')\n",
    "\n",
    "#tables = soup.findAll('table')   # All tables from the site. They are formatted the same.\n",
    "\n",
    "# Indices are as follows:   0 -> Basic Info (Full name, nation, birthdate, active/inactive)\n",
    "#                           1 -> Most recent competition year (2023 for most)\n",
    "#                           2+ -> 2nd / nth most recent competition years\n",
    "\n",
    "#number_comptetitions = (len(table)-1) # 9\n",
    "\n",
    "#print(tables[0].prettify())"
   ]
  },
  {
   "cell_type": "code",
   "execution_count": 22,
   "id": "34ccbce9",
   "metadata": {},
   "outputs": [],
   "source": [
    "# Finding birthdate - Standard: 3rd column, 2nd row (indices 2 then 1)\n",
    "#birth_date = tables[0].findAll('tr')[2].findAll('td')[1].text\n",
    "\n",
    "#print(birth_date)"
   ]
  },
  {
   "cell_type": "code",
   "execution_count": 23,
   "id": "bda70705",
   "metadata": {},
   "outputs": [],
   "source": [
    "# Manualy checking the structure of tables\n",
    "\n",
    "#for row in tables[1].find_all('tr'):\n",
    "#    columns = row.find_all('td')\n",
    "#    for column in columns: \n",
    "#        print(column.text)"
   ]
  },
  {
   "cell_type": "code",
   "execution_count": 24,
   "id": "489889e0",
   "metadata": {},
   "outputs": [],
   "source": [
    "#df_biles = pd.read_html(str(tables))[1]"
   ]
  },
  {
   "cell_type": "code",
   "execution_count": 25,
   "id": "01581d32",
   "metadata": {},
   "outputs": [],
   "source": [
    "#df_biles.head()"
   ]
  },
  {
   "cell_type": "markdown",
   "id": "b929d81a",
   "metadata": {},
   "source": [
    "#### Getting list of athletes"
   ]
  },
  {
   "cell_type": "code",
   "execution_count": 26,
   "id": "8a7f7fc2",
   "metadata": {
    "scrolled": false
   },
   "outputs": [
    {
     "name": "stdout",
     "output_type": "stream",
     "text": [
      "https://thegymter.net/sihem-hamidi/\n"
     ]
    }
   ],
   "source": [
    "url_gymter = \"https://thegymter.net/gymnast-database/\"\n",
    "\n",
    "r = requests.get(url_gymter)\n",
    "html_content = r.content\n",
    "\n",
    "soup = bs(html_content, 'html.parser')\n",
    "\n",
    "tr_tags = soup.findAll('tr')\n",
    "\n",
    "links = []\n",
    "\n",
    "for tag in tr_tags:\n",
    "    a_tags= tag.find_all('a', href=True)\n",
    "    for a_tag in a_tags:\n",
    "        links.append(a_tag['href'])\n",
    "        \n",
    "print(links[1])   # Showing example link"
   ]
  },
  {
   "cell_type": "markdown",
   "id": "3e52e02a",
   "metadata": {},
   "source": [
    "#### Creating the scraper"
   ]
  },
  {
   "cell_type": "code",
   "execution_count": 15,
   "id": "01917131",
   "metadata": {},
   "outputs": [],
   "source": [
    "df_olympic = pd.DataFrame()"
   ]
  },
  {
   "cell_type": "code",
   "execution_count": 27,
   "id": "4a710b44",
   "metadata": {},
   "outputs": [],
   "source": [
    "# updated scraper\n",
    "def add_gymnast(url):\n",
    "    global df_olympic \n",
    "\n",
    "    r = requests.get(str(url))\n",
    "    html_content = r.content\n",
    "    \n",
    "    soup = bs(html_content, 'html.parser')\n",
    "      \n",
    "    tables = soup.findAll('table')\n",
    "    \n",
    "    full_name = tables[0].findAll('tr')[0].findAll('td')[1].text\n",
    "    nation = tables[0].findAll('tr')[1].findAll('td')[1].text\n",
    "    birth_date = tables[0].findAll('tr')[2].findAll('td')[1].text  \n",
    "    \n",
    "    # For gathering competition year: Listed in order\n",
    "    strong_tags = soup.find_all('strong')\n",
    "    comp_years = []\n",
    "    \n",
    "    for strong_tag in strong_tags: \n",
    "        header = strong_tag.get_text(strip=True)\n",
    "        if 'Results' in header:\n",
    "            year = header.split()[0]\n",
    "            comp_years.append(year)\n",
    "    \n",
    "    \n",
    "    for i in range(len(tables)-2):\n",
    "        df_temp = pd.read_html(str(tables))[i+2]\n",
    "        \n",
    "        df_temp = df_temp.rename(columns=df_temp.iloc[0]).loc[1:]  # Making the first row the header and dropping that row\n",
    "        \n",
    "        df_temp['Full_Name'] = full_name\n",
    "        df_temp['Nation'] = nation\n",
    "        df_temp['Birthdate'] = birth_date\n",
    "        \n",
    "        df_temp['Comp_Year'] = comp_years[i]\n",
    "        \n",
    "        #df_olympic= df_olympic.append(df_temp, ignore_index=True)\n",
    "        df_olympic = pd.concat([df_olympic, df_temp], ignore_index=True)\n",
    "\n"
   ]
  },
  {
   "cell_type": "code",
   "execution_count": 28,
   "id": "1a8a67ba",
   "metadata": {},
   "outputs": [
    {
     "name": "stdout",
     "output_type": "stream",
     "text": [
      "Error scaping: http://www.thegymter.net/dipa-karmakar\n",
      "Error scaping: https://thegymter.net/malva-wingren/\n"
     ]
    }
   ],
   "source": [
    "for link in links:\n",
    "    try:\n",
    "        add_gymnast(link)\n",
    "    except: \n",
    "        print(\"Error scaping: \" + link)"
   ]
  },
  {
   "cell_type": "code",
   "execution_count": 29,
   "id": "0184e6c2",
   "metadata": {
    "scrolled": false
   },
   "outputs": [
    {
     "data": {
      "text/html": [
       "<div>\n",
       "<style scoped>\n",
       "    .dataframe tbody tr th:only-of-type {\n",
       "        vertical-align: middle;\n",
       "    }\n",
       "\n",
       "    .dataframe tbody tr th {\n",
       "        vertical-align: top;\n",
       "    }\n",
       "\n",
       "    .dataframe thead th {\n",
       "        text-align: right;\n",
       "    }\n",
       "</style>\n",
       "<table border=\"1\" class=\"dataframe\">\n",
       "  <thead>\n",
       "    <tr style=\"text-align: right;\">\n",
       "      <th></th>\n",
       "      <th>Date</th>\n",
       "      <th>Competition</th>\n",
       "      <th>NaN</th>\n",
       "      <th>VT</th>\n",
       "      <th>UB</th>\n",
       "      <th>BB</th>\n",
       "      <th>FX</th>\n",
       "      <th>AA</th>\n",
       "      <th>Full_Name</th>\n",
       "      <th>Nation</th>\n",
       "      <th>Birthdate</th>\n",
       "      <th>comp_year</th>\n",
       "      <th>Comp_Year</th>\n",
       "    </tr>\n",
       "  </thead>\n",
       "  <tbody>\n",
       "    <tr>\n",
       "      <th>0</th>\n",
       "      <td>Jul 23-Aug 8</td>\n",
       "      <td>Olympic Games</td>\n",
       "      <td>EF</td>\n",
       "      <td>——</td>\n",
       "      <td>——</td>\n",
       "      <td>14.000</td>\n",
       "      <td>——</td>\n",
       "      <td>——</td>\n",
       "      <td>Simone Arianne Biles</td>\n",
       "      <td>United States</td>\n",
       "      <td>March 14, 1997</td>\n",
       "      <td>2023</td>\n",
       "      <td>NaN</td>\n",
       "    </tr>\n",
       "    <tr>\n",
       "      <th>1</th>\n",
       "      <td>Jul 23-Aug 8</td>\n",
       "      <td>Olympic Games</td>\n",
       "      <td>TF</td>\n",
       "      <td>13.766</td>\n",
       "      <td>——</td>\n",
       "      <td>——</td>\n",
       "      <td>——</td>\n",
       "      <td>——</td>\n",
       "      <td>Simone Arianne Biles</td>\n",
       "      <td>United States</td>\n",
       "      <td>March 14, 1997</td>\n",
       "      <td>2023</td>\n",
       "      <td>NaN</td>\n",
       "    </tr>\n",
       "    <tr>\n",
       "      <th>2</th>\n",
       "      <td>Jul 23-Aug 8</td>\n",
       "      <td>Olympic Games</td>\n",
       "      <td>QF</td>\n",
       "      <td>14.966</td>\n",
       "      <td>14.566</td>\n",
       "      <td>14.066</td>\n",
       "      <td>14.133</td>\n",
       "      <td>57.731</td>\n",
       "      <td>Simone Arianne Biles</td>\n",
       "      <td>United States</td>\n",
       "      <td>March 14, 1997</td>\n",
       "      <td>2023</td>\n",
       "      <td>NaN</td>\n",
       "    </tr>\n",
       "    <tr>\n",
       "      <th>3</th>\n",
       "      <td>Jun 24-27</td>\n",
       "      <td>U.S. Olympic Trials</td>\n",
       "      <td>AA</td>\n",
       "      <td>15.400</td>\n",
       "      <td>13.833</td>\n",
       "      <td>13.700</td>\n",
       "      <td>14.600</td>\n",
       "      <td>57.533</td>\n",
       "      <td>Simone Arianne Biles</td>\n",
       "      <td>United States</td>\n",
       "      <td>March 14, 1997</td>\n",
       "      <td>2023</td>\n",
       "      <td>NaN</td>\n",
       "    </tr>\n",
       "    <tr>\n",
       "      <th>4</th>\n",
       "      <td>Jun 24-27</td>\n",
       "      <td>U.S. Olympic Trials</td>\n",
       "      <td>QF</td>\n",
       "      <td>15.466</td>\n",
       "      <td>14.600</td>\n",
       "      <td>15.133</td>\n",
       "      <td>15.366</td>\n",
       "      <td>60.565</td>\n",
       "      <td>Simone Arianne Biles</td>\n",
       "      <td>United States</td>\n",
       "      <td>March 14, 1997</td>\n",
       "      <td>2023</td>\n",
       "      <td>NaN</td>\n",
       "    </tr>\n",
       "  </tbody>\n",
       "</table>\n",
       "</div>"
      ],
      "text/plain": [
       "           Date          Competition NaN      VT      UB      BB      FX  \\\n",
       "0  Jul 23-Aug 8        Olympic Games  EF      ——      ——  14.000      ——   \n",
       "1  Jul 23-Aug 8        Olympic Games  TF  13.766      ——      ——      ——   \n",
       "2  Jul 23-Aug 8        Olympic Games  QF  14.966  14.566  14.066  14.133   \n",
       "3     Jun 24-27  U.S. Olympic Trials  AA  15.400  13.833  13.700  14.600   \n",
       "4     Jun 24-27  U.S. Olympic Trials  QF  15.466  14.600  15.133  15.366   \n",
       "\n",
       "       AA             Full_Name         Nation       Birthdate comp_year  \\\n",
       "0      ——  Simone Arianne Biles  United States  March 14, 1997      2023   \n",
       "1      ——  Simone Arianne Biles  United States  March 14, 1997      2023   \n",
       "2  57.731  Simone Arianne Biles  United States  March 14, 1997      2023   \n",
       "3  57.533  Simone Arianne Biles  United States  March 14, 1997      2023   \n",
       "4  60.565  Simone Arianne Biles  United States  March 14, 1997      2023   \n",
       "\n",
       "  Comp_Year  \n",
       "0       NaN  \n",
       "1       NaN  \n",
       "2       NaN  \n",
       "3       NaN  \n",
       "4       NaN  "
      ]
     },
     "execution_count": 29,
     "metadata": {},
     "output_type": "execute_result"
    }
   ],
   "source": [
    "df_olympic.head()"
   ]
  },
  {
   "cell_type": "code",
   "execution_count": 30,
   "id": "fa86d0a4",
   "metadata": {},
   "outputs": [
    {
     "name": "stdout",
     "output_type": "stream",
     "text": [
      "23393\n"
     ]
    }
   ],
   "source": [
    "print(len(df_olympic))"
   ]
  },
  {
   "cell_type": "code",
   "execution_count": 36,
   "id": "d891696f",
   "metadata": {
    "scrolled": true
   },
   "outputs": [],
   "source": [
    "df_olympic = df_olympic.replace('——','')"
   ]
  },
  {
   "cell_type": "code",
   "execution_count": 37,
   "id": "fda89f38",
   "metadata": {},
   "outputs": [
    {
     "data": {
      "text/html": [
       "<div>\n",
       "<style scoped>\n",
       "    .dataframe tbody tr th:only-of-type {\n",
       "        vertical-align: middle;\n",
       "    }\n",
       "\n",
       "    .dataframe tbody tr th {\n",
       "        vertical-align: top;\n",
       "    }\n",
       "\n",
       "    .dataframe thead th {\n",
       "        text-align: right;\n",
       "    }\n",
       "</style>\n",
       "<table border=\"1\" class=\"dataframe\">\n",
       "  <thead>\n",
       "    <tr style=\"text-align: right;\">\n",
       "      <th></th>\n",
       "      <th>Date</th>\n",
       "      <th>Competition</th>\n",
       "      <th>NaN</th>\n",
       "      <th>VT</th>\n",
       "      <th>UB</th>\n",
       "      <th>BB</th>\n",
       "      <th>FX</th>\n",
       "      <th>AA</th>\n",
       "      <th>Full_Name</th>\n",
       "      <th>Nation</th>\n",
       "      <th>Birthdate</th>\n",
       "      <th>comp_year</th>\n",
       "      <th>Comp_Year</th>\n",
       "    </tr>\n",
       "  </thead>\n",
       "  <tbody>\n",
       "    <tr>\n",
       "      <th>0</th>\n",
       "      <td>Jul 23-Aug 8</td>\n",
       "      <td>Olympic Games</td>\n",
       "      <td>EF</td>\n",
       "      <td></td>\n",
       "      <td></td>\n",
       "      <td>14.000</td>\n",
       "      <td></td>\n",
       "      <td></td>\n",
       "      <td>Simone Arianne Biles</td>\n",
       "      <td>United States</td>\n",
       "      <td>March 14, 1997</td>\n",
       "      <td>2023</td>\n",
       "      <td>NaN</td>\n",
       "    </tr>\n",
       "    <tr>\n",
       "      <th>1</th>\n",
       "      <td>Jul 23-Aug 8</td>\n",
       "      <td>Olympic Games</td>\n",
       "      <td>TF</td>\n",
       "      <td>13.766</td>\n",
       "      <td></td>\n",
       "      <td></td>\n",
       "      <td></td>\n",
       "      <td></td>\n",
       "      <td>Simone Arianne Biles</td>\n",
       "      <td>United States</td>\n",
       "      <td>March 14, 1997</td>\n",
       "      <td>2023</td>\n",
       "      <td>NaN</td>\n",
       "    </tr>\n",
       "    <tr>\n",
       "      <th>2</th>\n",
       "      <td>Jul 23-Aug 8</td>\n",
       "      <td>Olympic Games</td>\n",
       "      <td>QF</td>\n",
       "      <td>14.966</td>\n",
       "      <td>14.566</td>\n",
       "      <td>14.066</td>\n",
       "      <td>14.133</td>\n",
       "      <td>57.731</td>\n",
       "      <td>Simone Arianne Biles</td>\n",
       "      <td>United States</td>\n",
       "      <td>March 14, 1997</td>\n",
       "      <td>2023</td>\n",
       "      <td>NaN</td>\n",
       "    </tr>\n",
       "    <tr>\n",
       "      <th>3</th>\n",
       "      <td>Jun 24-27</td>\n",
       "      <td>U.S. Olympic Trials</td>\n",
       "      <td>AA</td>\n",
       "      <td>15.400</td>\n",
       "      <td>13.833</td>\n",
       "      <td>13.700</td>\n",
       "      <td>14.600</td>\n",
       "      <td>57.533</td>\n",
       "      <td>Simone Arianne Biles</td>\n",
       "      <td>United States</td>\n",
       "      <td>March 14, 1997</td>\n",
       "      <td>2023</td>\n",
       "      <td>NaN</td>\n",
       "    </tr>\n",
       "    <tr>\n",
       "      <th>4</th>\n",
       "      <td>Jun 24-27</td>\n",
       "      <td>U.S. Olympic Trials</td>\n",
       "      <td>QF</td>\n",
       "      <td>15.466</td>\n",
       "      <td>14.600</td>\n",
       "      <td>15.133</td>\n",
       "      <td>15.366</td>\n",
       "      <td>60.565</td>\n",
       "      <td>Simone Arianne Biles</td>\n",
       "      <td>United States</td>\n",
       "      <td>March 14, 1997</td>\n",
       "      <td>2023</td>\n",
       "      <td>NaN</td>\n",
       "    </tr>\n",
       "  </tbody>\n",
       "</table>\n",
       "</div>"
      ],
      "text/plain": [
       "           Date          Competition NaN      VT      UB      BB      FX  \\\n",
       "0  Jul 23-Aug 8        Olympic Games  EF                  14.000           \n",
       "1  Jul 23-Aug 8        Olympic Games  TF  13.766                           \n",
       "2  Jul 23-Aug 8        Olympic Games  QF  14.966  14.566  14.066  14.133   \n",
       "3     Jun 24-27  U.S. Olympic Trials  AA  15.400  13.833  13.700  14.600   \n",
       "4     Jun 24-27  U.S. Olympic Trials  QF  15.466  14.600  15.133  15.366   \n",
       "\n",
       "       AA             Full_Name         Nation       Birthdate comp_year  \\\n",
       "0          Simone Arianne Biles  United States  March 14, 1997      2023   \n",
       "1          Simone Arianne Biles  United States  March 14, 1997      2023   \n",
       "2  57.731  Simone Arianne Biles  United States  March 14, 1997      2023   \n",
       "3  57.533  Simone Arianne Biles  United States  March 14, 1997      2023   \n",
       "4  60.565  Simone Arianne Biles  United States  March 14, 1997      2023   \n",
       "\n",
       "  Comp_Year  \n",
       "0       NaN  \n",
       "1       NaN  \n",
       "2       NaN  \n",
       "3       NaN  \n",
       "4       NaN  "
      ]
     },
     "execution_count": 37,
     "metadata": {},
     "output_type": "execute_result"
    }
   ],
   "source": [
    "df_olympic.head()"
   ]
  },
  {
   "cell_type": "code",
   "execution_count": 38,
   "id": "a9c6da82",
   "metadata": {},
   "outputs": [],
   "source": [
    "df_olympic.to_csv('Gym_Womens.csv', index=False)"
   ]
  }
 ],
 "metadata": {
  "kernelspec": {
   "display_name": "Python 3 (ipykernel)",
   "language": "python",
   "name": "python3"
  },
  "language_info": {
   "codemirror_mode": {
    "name": "ipython",
    "version": 3
   },
   "file_extension": ".py",
   "mimetype": "text/x-python",
   "name": "python",
   "nbconvert_exporter": "python",
   "pygments_lexer": "ipython3",
   "version": "3.9.12"
  }
 },
 "nbformat": 4,
 "nbformat_minor": 5
}
